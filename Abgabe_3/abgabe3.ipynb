{
 "cells": [
  {
   "cell_type": "markdown",
   "id": "3793904e",
   "metadata": {},
   "source": [
    "# Abgabe 3"
   ]
  },
  {
   "cell_type": "code",
   "execution_count": 1,
   "id": "afef4d60",
   "metadata": {},
   "outputs": [],
   "source": [
    "import numpy as np"
   ]
  },
  {
   "cell_type": "code",
   "execution_count": null,
   "id": "7af2ecbb",
   "metadata": {},
   "outputs": [],
   "source": [
    "#load images\n",
    "images = []\n",
    "for file in os.listdir('.'):\n",
    "    if file.endswith(('.jpg')):\n",
    "        img = io.imread(file)\n",
    "        images.append(img)\n",
    "\n",
    "plt.imshow(images[0])\n",
    "plt.axis('off') \n",
    "plt.show()\n",
    "\n",
    "#convert to gray image \n",
    "def gray_converter(image):\n",
    "    gray_image = 0.2989 * image[:, :, 2] + 0.5870 * image[:, :, 1] + 0.1140 * image[:, :, 0]\n",
    "    gray_image = gray_image.astype('uint8')\n",
    "    return gray_image"
   ]
  },
  {
   "cell_type": "markdown",
   "id": "d36d586c",
   "metadata": {},
   "source": [
    "2. Implementierung der Faltung mit Filtermasken"
   ]
  },
  {
   "cell_type": "code",
   "execution_count": null,
   "id": "0d1ce8f8",
   "metadata": {},
   "outputs": [],
   "source": [
    "\n",
    "#smoothing filter\n",
    "kernel = np.array([[0.075, 0.125, 0.075],\n",
    "                   [0.125, 0.200, 0.125],\n",
    "                   [0.075, 0.125, 0.075]], dtype= float)\n",
    "\n",
    "\n",
    "def filter(in_image, filter, off):\n",
    "\n",
    "    image_h, image_w = in_image.shape\n",
    "    filter_h, filter_w = filter.shape\n",
    "\n",
    "    s = 1.0 / np.sum(filter)\n",
    "\n",
    "    #filter matrix (2K+1)×(2L+1)\n",
    "    K = filter.shape[0] // 2\n",
    "    L = filter.shape[1] //2\n",
    "\n",
    "    copy = in_image.copy()\n",
    "    out_image = np.zeros((image_h - 2 * L, image_w - 2 * K), dtype=np.uint8) # -2 border pixel\n",
    "\n",
    "    for v in range(L, image_h - L, off):\n",
    "        for u in range(K, image_w - K, off):\n",
    "            sum = 0.0\n",
    "            for j in range(- L, L + 1):\n",
    "                for i in range(- K, K + 1):\n",
    "                    p = copy[v + j, u + i] #[y,x]\n",
    "                    c = filter[j + L][i + K]\n",
    "                    sum += c * p\n",
    "            \n",
    "            q = int(np.round(s * sum))\n",
    "            if q < 0: q = 0\n",
    "            if q > 255: q = 255\n",
    "            out_image[v, u] = q\n",
    "        \n",
    "    return out_image"
   ]
  }
 ],
 "metadata": {
  "kernelspec": {
   "display_name": "Python 3",
   "language": "python",
   "name": "python3"
  },
  "language_info": {
   "codemirror_mode": {
    "name": "ipython",
    "version": 3
   },
   "file_extension": ".py",
   "mimetype": "text/x-python",
   "name": "python",
   "nbconvert_exporter": "python",
   "pygments_lexer": "ipython3",
   "version": "3.13.0"
  }
 },
 "nbformat": 4,
 "nbformat_minor": 5
}
